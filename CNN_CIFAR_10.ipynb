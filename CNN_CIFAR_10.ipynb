{
 "cells": [
  {
   "cell_type": "code",
   "execution_count": 1,
   "id": "759b5da5",
   "metadata": {},
   "outputs": [],
   "source": [
    "import tensorflow \n",
    "from tensorflow.keras import Sequential\n",
    "from tensorflow.keras import layers\n",
    "from tensorflow.keras.utils import to_categorical\n",
    "import matplotlib.pyplot as plt"
   ]
  },
  {
   "cell_type": "code",
   "execution_count": 2,
   "id": "f4e86993",
   "metadata": {},
   "outputs": [],
   "source": [
    "from tensorflow.keras.datasets import cifar10\n",
    "(train_im,train_label),(test_im, test_label) = cifar10.load_data()"
   ]
  },
  {
   "cell_type": "code",
   "execution_count": 3,
   "id": "96c29c50",
   "metadata": {},
   "outputs": [],
   "source": [
    "train_im = train_im/255\n",
    "test_im = test_im/255"
   ]
  },
  {
   "cell_type": "code",
   "execution_count": 4,
   "id": "f130a983",
   "metadata": {},
   "outputs": [],
   "source": [
    "train_label = to_categorical(train_label)\n",
    "test_label = to_categorical(test_label)"
   ]
  },
  {
   "cell_type": "code",
   "execution_count": 23,
   "id": "92d2cc3a",
   "metadata": {},
   "outputs": [
    {
     "name": "stdout",
     "output_type": "stream",
     "text": [
      "Epoch 1/10\n",
      "1563/1563 [==============================] - 223s 142ms/step - loss: 1.3799 - accuracy: 0.5135\n",
      "Epoch 2/10\n",
      "1563/1563 [==============================] - 226s 145ms/step - loss: 0.8996 - accuracy: 0.6799\n",
      "Epoch 3/10\n",
      "1563/1563 [==============================] - 203s 130ms/step - loss: 0.7412 - accuracy: 0.7415\n",
      "Epoch 4/10\n",
      "1563/1563 [==============================] - 180s 115ms/step - loss: 0.6452 - accuracy: 0.7744\n",
      "Epoch 5/10\n",
      "1563/1563 [==============================] - 180s 115ms/step - loss: 0.5694 - accuracy: 0.8036\n",
      "Epoch 6/10\n",
      "1563/1563 [==============================] - 201s 128ms/step - loss: 0.5065 - accuracy: 0.8259\n",
      "Epoch 7/10\n",
      "1563/1563 [==============================] - 220s 141ms/step - loss: 0.4538 - accuracy: 0.8421\n",
      "Epoch 8/10\n",
      "1563/1563 [==============================] - 208s 133ms/step - loss: 0.3991 - accuracy: 0.8609\n",
      "Epoch 9/10\n",
      "1563/1563 [==============================] - 204s 130ms/step - loss: 0.3557 - accuracy: 0.8753\n",
      "Epoch 10/10\n",
      "1563/1563 [==============================] - 185s 118ms/step - loss: 0.3237 - accuracy: 0.8869\n"
     ]
    }
   ],
   "source": [
    "opt = tensorflow.keras.optimizers.Adam(learning_rate=0.001, beta_1=0.9, beta_2=0.999)\n",
    "model = Sequential()\n",
    "\n",
    "model.add(layers.Conv2D(32, kernel_size=(3,3),activation = 'relu',padding = 'same'))\n",
    "model.add(layers.Conv2D(64, kernel_size=(3,3),activation = 'relu', padding = 'same'))\n",
    "model.add(layers.Conv2D(128, kernel_size=(3,3),activation = 'relu', padding = 'same'))\n",
    "model.add(layers.BatchNormalization())\n",
    "model.add(layers.MaxPool2D(pool_size = (3,3)))\n",
    "model.add(layers.Dropout(0.2))\n",
    "\n",
    "model.add(layers.Conv2D(32, kernel_size=(3,3),activation = 'relu',padding = 'same'))\n",
    "model.add(layers.Conv2D(64, kernel_size=(3,3),activation = 'relu', padding = 'same'))\n",
    "model.add(layers.Conv2D(128, kernel_size=(3,3),activation = 'relu', padding = 'same'))\n",
    "model.add(layers.BatchNormalization())\n",
    "model.add(layers.MaxPool2D(pool_size = (3,3)))\n",
    "model.add(layers.Dropout(0.2))\n",
    "\n",
    "\n",
    "model.add(layers.Flatten())\n",
    "model.add(layers.Dense(512,activation='relu'))\n",
    "model.add(layers.Dense(10,activation = 'softmax'))\n",
    "\n",
    "model.compile(optimizer=opt,loss='categorical_crossentropy',metrics =['accuracy'])\n",
    "hist = model.fit(train_im,train_label,batch_size=32,epochs=10)"
   ]
  },
  {
   "cell_type": "code",
   "execution_count": 24,
   "id": "2c99aecc",
   "metadata": {},
   "outputs": [
    {
     "name": "stdout",
     "output_type": "stream",
     "text": [
      "Model: \"sequential_8\"\n",
      "_________________________________________________________________\n",
      "Layer (type)                 Output Shape              Param #   \n",
      "=================================================================\n",
      "conv2d_48 (Conv2D)           (None, 32, 32, 32)        896       \n",
      "_________________________________________________________________\n",
      "conv2d_49 (Conv2D)           (None, 32, 32, 64)        18496     \n",
      "_________________________________________________________________\n",
      "conv2d_50 (Conv2D)           (None, 32, 32, 128)       73856     \n",
      "_________________________________________________________________\n",
      "batch_normalization_16 (Batc (None, 32, 32, 128)       512       \n",
      "_________________________________________________________________\n",
      "max_pooling2d_16 (MaxPooling (None, 10, 10, 128)       0         \n",
      "_________________________________________________________________\n",
      "dropout_16 (Dropout)         (None, 10, 10, 128)       0         \n",
      "_________________________________________________________________\n",
      "conv2d_51 (Conv2D)           (None, 10, 10, 32)        36896     \n",
      "_________________________________________________________________\n",
      "conv2d_52 (Conv2D)           (None, 10, 10, 64)        18496     \n",
      "_________________________________________________________________\n",
      "conv2d_53 (Conv2D)           (None, 10, 10, 128)       73856     \n",
      "_________________________________________________________________\n",
      "batch_normalization_17 (Batc (None, 10, 10, 128)       512       \n",
      "_________________________________________________________________\n",
      "max_pooling2d_17 (MaxPooling (None, 3, 3, 128)         0         \n",
      "_________________________________________________________________\n",
      "dropout_17 (Dropout)         (None, 3, 3, 128)         0         \n",
      "_________________________________________________________________\n",
      "flatten_8 (Flatten)          (None, 1152)              0         \n",
      "_________________________________________________________________\n",
      "dense_16 (Dense)             (None, 512)               590336    \n",
      "_________________________________________________________________\n",
      "dense_17 (Dense)             (None, 10)                5130      \n",
      "=================================================================\n",
      "Total params: 818,986\n",
      "Trainable params: 818,474\n",
      "Non-trainable params: 512\n",
      "_________________________________________________________________\n",
      "313/313 [==============================] - 7s 21ms/step - loss: 0.6253 - accuracy: 0.8081\n"
     ]
    },
    {
     "data": {
      "text/plain": [
       "[0.6253002285957336, 0.8080999851226807]"
      ]
     },
     "execution_count": 24,
     "metadata": {},
     "output_type": "execute_result"
    }
   ],
   "source": [
    "model.summary()\n",
    "model.evaluate(test_im,test_label)"
   ]
  },
  {
   "cell_type": "code",
   "execution_count": null,
   "id": "320773f4",
   "metadata": {},
   "outputs": [],
   "source": []
  }
 ],
 "metadata": {
  "kernelspec": {
   "display_name": "Python 3",
   "language": "python",
   "name": "python3"
  },
  "language_info": {
   "codemirror_mode": {
    "name": "ipython",
    "version": 3
   },
   "file_extension": ".py",
   "mimetype": "text/x-python",
   "name": "python",
   "nbconvert_exporter": "python",
   "pygments_lexer": "ipython3",
   "version": "3.6.13"
  }
 },
 "nbformat": 4,
 "nbformat_minor": 5
}
